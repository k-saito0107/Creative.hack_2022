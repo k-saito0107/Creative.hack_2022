{
 "cells": [
  {
   "cell_type": "code",
   "execution_count": 1,
   "id": "88536d1d-4591-4993-a935-58797c9ef51f",
   "metadata": {},
   "outputs": [],
   "source": [
    "import pandas as pd\n",
    "import numpy as np\n",
    "import datetime\n",
    "from datetime import timedelta\n",
    "import random\n",
    "import glob\n",
    "%matplotlib inline\n",
    "import matplotlib.pyplot as plt\n",
    "\n",
    "# スクレイピング結果の保存先\n",
    "file_dir_path = '../../data/'\n",
    "# 乱数seed固定\n",
    "random.seed(1234) "
   ]
  },
  {
   "cell_type": "code",
   "execution_count": 2,
   "id": "159bc127-2c25-4d7f-bf5c-08d21d004324",
   "metadata": {},
   "outputs": [
    {
     "name": "stdout",
     "output_type": "stream",
     "text": [
      "['Hiragino sans']\n"
     ]
    }
   ],
   "source": [
    "import matplotlib\n",
    "print(matplotlib.rcParams['font.family'])"
   ]
  },
  {
   "cell_type": "code",
   "execution_count": 3,
   "id": "133c566b-c8cd-4f03-921e-4d1b122cd752",
   "metadata": {},
   "outputs": [
    {
     "name": "stderr",
     "output_type": "stream",
     "text": [
      "/opt/anaconda3/lib/python3.9/site-packages/IPython/core/interactiveshell.py:3444: DtypeWarning: Columns (0,2,3,4,5,6,7,8,9,10,12,13) have mixed types.Specify dtype option on import or set low_memory=False.\n",
      "  exec(code_obj, self.user_global_ns, self.user_ns)\n"
     ]
    }
   ],
   "source": [
    "# データの読み込み\n",
    "path = '../../reshape_data.csv'\n",
    "data = pd.read_csv(path)"
   ]
  },
  {
   "cell_type": "code",
   "execution_count": 4,
   "id": "c2796ce4-5a91-40d8-b93c-ba76cc1d68fd",
   "metadata": {},
   "outputs": [
    {
     "data": {
      "text/html": [
       "<div>\n",
       "<style scoped>\n",
       "    .dataframe tbody tr th:only-of-type {\n",
       "        vertical-align: middle;\n",
       "    }\n",
       "\n",
       "    .dataframe tbody tr th {\n",
       "        vertical-align: top;\n",
       "    }\n",
       "\n",
       "    .dataframe thead th {\n",
       "        text-align: right;\n",
       "    }\n",
       "</style>\n",
       "<table border=\"1\" class=\"dataframe\">\n",
       "  <thead>\n",
       "    <tr style=\"text-align: right;\">\n",
       "      <th></th>\n",
       "      <th>Unnamed: 0</th>\n",
       "      <th>ツイートID</th>\n",
       "      <th>ツイート時刻</th>\n",
       "      <th>ツイート本文</th>\n",
       "      <th>いいね数</th>\n",
       "      <th>リツイート数</th>\n",
       "      <th>ID</th>\n",
       "      <th>ユーザー名</th>\n",
       "      <th>アカウント名</th>\n",
       "      <th>自己紹介文</th>\n",
       "      <th>フォロー数</th>\n",
       "      <th>フォロワー数</th>\n",
       "      <th>アカウント作成日時</th>\n",
       "      <th>検索ワード</th>\n",
       "      <th>文字数</th>\n",
       "      <th>ヘッダー画像の有無</th>\n",
       "      <th>ヘッダーURLの有無</th>\n",
       "      <th>アカウント稼働日数</th>\n",
       "    </tr>\n",
       "  </thead>\n",
       "  <tbody>\n",
       "    <tr>\n",
       "      <th>0</th>\n",
       "      <td>0</td>\n",
       "      <td>1.631308e+18</td>\n",
       "      <td>2023-03-03</td>\n",
       "      <td>.\\n✨🎎3日間ひなまつりコラボ🎎✨\\n【まっつんさん× 睡眠ちゃん】\\n\\n🌸━━━━🌸\\...</td>\n",
       "      <td>83</td>\n",
       "      <td>100</td>\n",
       "      <td>1049273245222858752</td>\n",
       "      <td>suim_1</td>\n",
       "      <td>睡眠ちゃん</td>\n",
       "      <td>元ホス狂いツイッタラー🌈 サブ垢🍃:@suim_2 🥣: #睡眠ごはん 🏡:#睡眠ハウス コ...</td>\n",
       "      <td>718.0</td>\n",
       "      <td>22208.0</td>\n",
       "      <td>2018-10-08</td>\n",
       "      <td>ひなまつり</td>\n",
       "      <td>194.0</td>\n",
       "      <td>0.0</td>\n",
       "      <td>1.0</td>\n",
       "      <td>1607.0</td>\n",
       "    </tr>\n",
       "    <tr>\n",
       "      <th>1</th>\n",
       "      <td>1</td>\n",
       "      <td>1.631417e+18</td>\n",
       "      <td>2023-03-03</td>\n",
       "      <td>@salonbuzzkazu1 @njsj12m カズ社長、おはようございます。\\n本日は、...</td>\n",
       "      <td>0</td>\n",
       "      <td>0</td>\n",
       "      <td>865597357</td>\n",
       "      <td>hitosimasuhiro</td>\n",
       "      <td>益弘®︎均​ ⛄️｜マインド系歯科医師(Hitoshi Masuhiro)｜戸上軍団 最高顧問</td>\n",
       "      <td>皆様のフォロワーを増やすお手伝いをさせて頂いています。｜Twitter運用の詳細を知りたい方...</td>\n",
       "      <td>20816.0</td>\n",
       "      <td>27801.0</td>\n",
       "      <td>2012-10-07</td>\n",
       "      <td>ひなまつり</td>\n",
       "      <td>88.0</td>\n",
       "      <td>1.0</td>\n",
       "      <td>1.0</td>\n",
       "      <td>3799.0</td>\n",
       "    </tr>\n",
       "    <tr>\n",
       "      <th>2</th>\n",
       "      <td>2</td>\n",
       "      <td>1.631417e+18</td>\n",
       "      <td>2023-03-03</td>\n",
       "      <td>RT @oyakodon82tori: おはようございます😃\\n金曜だー🥳🥳🥳\\nひなまつり...</td>\n",
       "      <td>0</td>\n",
       "      <td>2</td>\n",
       "      <td>2714376320</td>\n",
       "      <td>ritsurin48330go</td>\n",
       "      <td>りゅう</td>\n",
       "      <td>とっくの昔に成人済。おばぁちゃんレイヤーです。基本雑多垢。原神はタルタリヤと ディルック推し...</td>\n",
       "      <td>629.0</td>\n",
       "      <td>634.0</td>\n",
       "      <td>2014-08-07</td>\n",
       "      <td>ひなまつり</td>\n",
       "      <td>88.0</td>\n",
       "      <td>1.0</td>\n",
       "      <td>0.0</td>\n",
       "      <td>3130.0</td>\n",
       "    </tr>\n",
       "    <tr>\n",
       "      <th>3</th>\n",
       "      <td>3</td>\n",
       "      <td>1.631417e+18</td>\n",
       "      <td>2023-03-03</td>\n",
       "      <td>@kazuikukazu おはようございます~❣😊\\nかずさん✨(ฅ'ω'ฅ)🐾🎎\\nひなま...</td>\n",
       "      <td>0</td>\n",
       "      <td>0</td>\n",
       "      <td>2586574525</td>\n",
       "      <td>Kuwatomo084</td>\n",
       "      <td>くわとも</td>\n",
       "      <td>気軽にライダー仲間が出来たら 一番初めに乗ったのがＭＲ５０今は レンタルバイクで楽しんでます...</td>\n",
       "      <td>3805.0</td>\n",
       "      <td>3832.0</td>\n",
       "      <td>2014-06-25</td>\n",
       "      <td>ひなまつり</td>\n",
       "      <td>175.0</td>\n",
       "      <td>1.0</td>\n",
       "      <td>1.0</td>\n",
       "      <td>3173.0</td>\n",
       "    </tr>\n",
       "    <tr>\n",
       "      <th>4</th>\n",
       "      <td>4</td>\n",
       "      <td>1.631417e+18</td>\n",
       "      <td>2023-03-03</td>\n",
       "      <td>RT @TMitaka: うれしいひなまつり https://t.co/pWax688Trp...</td>\n",
       "      <td>0</td>\n",
       "      <td>11</td>\n",
       "      <td>2948265242</td>\n",
       "      <td>ZirouSabu</td>\n",
       "      <td>アパタカと8にゃんとパル</td>\n",
       "      <td>#germanshepherd アパッチ君とタカオ君 #Ragamuffin ママのパオちゃ...</td>\n",
       "      <td>6063.0</td>\n",
       "      <td>7182.0</td>\n",
       "      <td>2014-12-29</td>\n",
       "      <td>ひなまつり</td>\n",
       "      <td>57.0</td>\n",
       "      <td>1.0</td>\n",
       "      <td>0.0</td>\n",
       "      <td>2986.0</td>\n",
       "    </tr>\n",
       "  </tbody>\n",
       "</table>\n",
       "</div>"
      ],
      "text/plain": [
       "  Unnamed: 0        ツイートID      ツイート時刻  \\\n",
       "0          0  1.631308e+18  2023-03-03   \n",
       "1          1  1.631417e+18  2023-03-03   \n",
       "2          2  1.631417e+18  2023-03-03   \n",
       "3          3  1.631417e+18  2023-03-03   \n",
       "4          4  1.631417e+18  2023-03-03   \n",
       "\n",
       "                                              ツイート本文 いいね数 リツイート数  \\\n",
       "0  .\\n✨🎎3日間ひなまつりコラボ🎎✨\\n【まっつんさん× 睡眠ちゃん】\\n\\n🌸━━━━🌸\\...   83    100   \n",
       "1  @salonbuzzkazu1 @njsj12m カズ社長、おはようございます。\\n本日は、...    0      0   \n",
       "2  RT @oyakodon82tori: おはようございます😃\\n金曜だー🥳🥳🥳\\nひなまつり...    0      2   \n",
       "3  @kazuikukazu おはようございます~❣😊\\nかずさん✨(ฅ'ω'ฅ)🐾🎎\\nひなま...    0      0   \n",
       "4  RT @TMitaka: うれしいひなまつり https://t.co/pWax688Trp...    0     11   \n",
       "\n",
       "                    ID            ユーザー名  \\\n",
       "0  1049273245222858752           suim_1   \n",
       "1            865597357   hitosimasuhiro   \n",
       "2           2714376320  ritsurin48330go   \n",
       "3           2586574525      Kuwatomo084   \n",
       "4           2948265242        ZirouSabu   \n",
       "\n",
       "                                            アカウント名  \\\n",
       "0                                            睡眠ちゃん   \n",
       "1  益弘®︎均​ ⛄️｜マインド系歯科医師(Hitoshi Masuhiro)｜戸上軍団 最高顧問   \n",
       "2                                              りゅう   \n",
       "3                                             くわとも   \n",
       "4                                     アパタカと8にゃんとパル   \n",
       "\n",
       "                                               自己紹介文    フォロー数   フォロワー数  \\\n",
       "0  元ホス狂いツイッタラー🌈 サブ垢🍃:@suim_2 🥣: #睡眠ごはん 🏡:#睡眠ハウス コ...    718.0  22208.0   \n",
       "1  皆様のフォロワーを増やすお手伝いをさせて頂いています。｜Twitter運用の詳細を知りたい方...  20816.0  27801.0   \n",
       "2  とっくの昔に成人済。おばぁちゃんレイヤーです。基本雑多垢。原神はタルタリヤと ディルック推し...    629.0    634.0   \n",
       "3  気軽にライダー仲間が出来たら 一番初めに乗ったのがＭＲ５０今は レンタルバイクで楽しんでます...   3805.0   3832.0   \n",
       "4  #germanshepherd アパッチ君とタカオ君 #Ragamuffin ママのパオちゃ...   6063.0   7182.0   \n",
       "\n",
       "    アカウント作成日時  検索ワード    文字数  ヘッダー画像の有無  ヘッダーURLの有無  アカウント稼働日数  \n",
       "0  2018-10-08  ひなまつり  194.0        0.0         1.0     1607.0  \n",
       "1  2012-10-07  ひなまつり   88.0        1.0         1.0     3799.0  \n",
       "2  2014-08-07  ひなまつり   88.0        1.0         0.0     3130.0  \n",
       "3  2014-06-25  ひなまつり  175.0        1.0         1.0     3173.0  \n",
       "4  2014-12-29  ひなまつり   57.0        1.0         0.0     2986.0  "
      ]
     },
     "execution_count": 4,
     "metadata": {},
     "output_type": "execute_result"
    }
   ],
   "source": [
    "data.head()"
   ]
  },
  {
   "cell_type": "markdown",
   "id": "c66a8024-5484-479e-a28d-ff37f3204ff9",
   "metadata": {},
   "source": [
    "## アカウント登録日数といいね数との関係性"
   ]
  },
  {
   "cell_type": "code",
   "execution_count": 5,
   "id": "30eb3a91-53fd-4bc5-8ced-1d3c828791b5",
   "metadata": {},
   "outputs": [
    {
     "name": "stderr",
     "output_type": "stream",
     "text": [
      "/var/folders/m2/sv15qrgj6lq9vywplmj8nl840000gn/T/ipykernel_23275/86439367.py:2: SettingWithCopyWarning: \n",
      "A value is trying to be set on a copy of a slice from a DataFrame.\n",
      "Try using .loc[row_indexer,col_indexer] = value instead\n",
      "\n",
      "See the caveats in the documentation: https://pandas.pydata.org/pandas-docs/stable/user_guide/indexing.html#returning-a-view-versus-a-copy\n",
      "  data1['稼働日数【年】'] = data1['アカウント稼働日数'] / 360\n"
     ]
    },
    {
     "name": "stdout",
     "output_type": "stream",
     "text": [
      "いいね数              0\n",
      "アカウント稼働日数    190869\n",
      "稼働日数【年】      190869\n",
      "dtype: int64\n",
      "いいね数           int64\n",
      "アカウント稼働日数    float64\n",
      "稼働日数【年】      float64\n",
      "dtype: object\n"
     ]
    }
   ],
   "source": [
    "data1 = data[['いいね数', 'アカウント稼働日数']]\n",
    "data1['稼働日数【年】'] = data1['アカウント稼働日数'] / 360\n",
    "data1 = data1[data1['いいね数'].astype(str).str.isdecimal()]\n",
    "data1['いいね数'] = pd.to_numeric(data1['いいね数'], errors='coerce')\n",
    "print(data1.isnull().sum())\n",
    "data1 = data1.fillna(0)\n",
    "#data1['稼働日数【年】'] = data1['稼働日数【年】'].astype('int')\n",
    "#data1['稼働日数【年】'] = data1['稼働日数【年】'].astype('str')\n",
    "#data1['いいね数'] = data1['いいね数'].astype('str')\n",
    "print(data1.dtypes)"
   ]
  },
  {
   "cell_type": "code",
   "execution_count": 7,
   "id": "8172884c-5dec-4855-a7f0-83c67b9f5290",
   "metadata": {},
   "outputs": [
    {
     "name": "stdout",
     "output_type": "stream",
     "text": [
      "いいね数           int64\n",
      "アカウント稼働日数    float64\n",
      "稼働日数【年】      float64\n",
      "dtype: object\n"
     ]
    },
    {
     "data": {
      "text/plain": [
       "<matplotlib.collections.PathCollection at 0x7f9128162250>"
      ]
     },
     "execution_count": 7,
     "metadata": {},
     "output_type": "execute_result"
    },
    {
     "data": {
      "image/png": "[encoded data removed]",
      "text/plain": [
       "<Figure size 432x288 with 1 Axes>"
      ]
     },
     "metadata": {
      "needs_background": "light"
     },
     "output_type": "display_data"
    }
   ],
   "source": [
    "graph_data = data1.sample(100000)\n",
    "print(graph_data.dtypes)\n",
    "# グラフの装飾\n",
    "plt.xlim(graph_data['稼働日数【年】'].min(), graph_data['稼働日数【年】'].max())\n",
    "plt.ylim(graph_data['いいね数'].min(), 3000)\n",
    "\n",
    "plt.xlabel(\"稼働日数【年】\", fontsize=15)\n",
    "plt.ylabel(\"いいね数\", fontsize=15)\n",
    "plt.grid(True)\n",
    "plt.tick_params(labelsize = 12) # (9)目盛線のラベルサイズ\n",
    "x_data = graph_data['稼働日数【年】'].to_numpy().astype(np.float64)\n",
    "y_data = graph_data['いいね数'].to_numpy().astype(np.int64)\n",
    "\n",
    "plt.scatter(x_data, y_data)\n"
   ]
  },
  {
   "cell_type": "markdown",
   "id": "93bfa058-3398-4717-a6cb-852f845c6edb",
   "metadata": {},
   "source": [
    "## ツイートと文字数"
   ]
  },
  {
   "cell_type": "code",
   "execution_count": 15,
   "id": "b907ea0a-0a21-438d-8d34-86b0aaa89fa5",
   "metadata": {},
   "outputs": [],
   "source": [
    "data3 = data[['いいね数', '文字数']]\n",
    "data3 = data3[data3['いいね数'].astype(str).str.isdecimal()]\n",
    "data3['いいね数'] = pd.to_numeric(data3['いいね数'], errors='coerce')\n",
    "data3 = data3.fillna(0)"
   ]
  },
  {
   "cell_type": "code",
   "execution_count": 16,
   "id": "0ff05bde-fa6b-4d39-bb54-bd6a00dca54e",
   "metadata": {},
   "outputs": [
    {
     "name": "stdout",
     "output_type": "stream",
     "text": [
      "いいね数      int64\n",
      "文字数     float64\n",
      "dtype: object\n"
     ]
    },
    {
     "data": {
      "text/plain": [
       "<matplotlib.collections.PathCollection at 0x7f912cdb14c0>"
      ]
     },
     "execution_count": 16,
     "metadata": {},
     "output_type": "execute_result"
    },
    {
     "data": {
      "image/png": "[encoded data removed]",
      "text/plain": [
       "<Figure size 432x288 with 1 Axes>"
      ]
     },
     "metadata": {
      "needs_background": "light"
     },
     "output_type": "display_data"
    }
   ],
   "source": [
    "graph_data = data2.sample(100000)\n",
    "print(graph_data.dtypes)\n",
    "# グラフの装飾\n",
    "#plt.xlim(graph_data['文字数'].min(), graph_data['文字数'].max())\n",
    "plt.xlim(graph_data['文字数'].min(), 300)\n",
    "plt.ylim(graph_data['いいね数'].min(), 3000)\n",
    "\n",
    "plt.xlabel(\"文字数\", fontsize=15)\n",
    "plt.ylabel(\"いいね数\", fontsize=15)\n",
    "plt.grid(True)\n",
    "plt.tick_params(labelsize = 12) # (9)目盛線のラベルサイズ\n",
    "x_data = graph_data['文字数'].to_numpy().astype(np.float64)\n",
    "y_data = graph_data['いいね数'].to_numpy().astype(np.int64)\n",
    "\n",
    "plt.scatter(x_data, y_data)"
   ]
  },
  {
   "cell_type": "markdown",
   "id": "c5bca375-286f-4700-9840-9ac701d2cc2b",
   "metadata": {},
   "source": [
    "## リツイート数のいいね数"
   ]
  },
  {
   "cell_type": "code",
   "execution_count": 18,
   "id": "8e841552-8359-46fb-a7e7-8d14dfc3d349",
   "metadata": {},
   "outputs": [],
   "source": [
    "data3 = data[['いいね数', 'リツイート数']]\n",
    "data3 = data3[data3['いいね数'].astype(str).str.isdecimal()]\n",
    "data3['いいね数'] = pd.to_numeric(data3['いいね数'], errors='coerce')\n",
    "data2 = data2.fillna(0)\n",
    "\n",
    "data3 = data3[data3['リツイート数'].astype(str).str.isdecimal()]\n",
    "data3['リツイート数'] = pd.to_numeric(data3['リツイート数'], errors='coerce')\n",
    "data3 = data3.fillna(0)"
   ]
  },
  {
   "cell_type": "code",
   "execution_count": 20,
   "id": "00391de2-1f28-4fb5-91ae-878610ba4637",
   "metadata": {},
   "outputs": [
    {
     "name": "stdout",
     "output_type": "stream",
     "text": [
      "いいね数      int64\n",
      "リツイート数    int64\n",
      "dtype: object\n"
     ]
    },
    {
     "data": {
      "text/plain": [
       "<matplotlib.collections.PathCollection at 0x7f90d9c23610>"
      ]
     },
     "execution_count": 20,
     "metadata": {},
     "output_type": "execute_result"
    },
    {
     "data": {
      "image/png": "[encoded data removed]",
      "text/plain": [
       "<Figure size 432x288 with 1 Axes>"
      ]
     },
     "metadata": {
      "needs_background": "light"
     },
     "output_type": "display_data"
    }
   ],
   "source": [
    "graph_data = data3.sample(100000)\n",
    "print(graph_data.dtypes)\n",
    "# グラフの装飾\n",
    "#plt.xlim(graph_data['文字数'].min(), graph_data['文字数'].max())\n",
    "plt.xlim(graph_data['リツイート数'].min(), 500)\n",
    "plt.ylim(graph_data['いいね数'].min(), 3000)\n",
    "\n",
    "plt.xlabel(\"リツイート数\", fontsize=15)\n",
    "plt.ylabel(\"いいね数\", fontsize=15)\n",
    "plt.grid(True)\n",
    "plt.tick_params(labelsize = 12) # (9)目盛線のラベルサイズ\n",
    "x_data = graph_data['リツイート数'].to_numpy().astype(np.float64)\n",
    "y_data = graph_data['いいね数'].to_numpy().astype(np.int64)\n",
    "\n",
    "plt.scatter(x_data, y_data)"
   ]
  },
  {
   "cell_type": "code",
   "execution_count": null,
   "id": "cda7944a-a16b-490d-88c1-acb7fdc06632",
   "metadata": {},
   "outputs": [],
   "source": []
  }
 ],
 "metadata": {
  "kernelspec": {
   "display_name": "Python 3 (ipykernel)",
   "language": "python",
   "name": "python3"
  },
  "language_info": {
   "codemirror_mode": {
    "name": "ipython",
    "version": 3
   },
   "file_extension": ".py",
   "mimetype": "text/x-python",
   "name": "python",
   "nbconvert_exporter": "python",
   "pygments_lexer": "ipython3",
   "version": "3.9.7"
  }
 },
 "nbformat": 4,
 "nbformat_minor": 5
}
