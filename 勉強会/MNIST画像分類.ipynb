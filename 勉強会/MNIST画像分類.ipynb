{
  "nbformat": 4,
  "nbformat_minor": 0,
  "metadata": {
    "colab": {
      "provenance": []
    },
    "kernelspec": {
      "name": "python3",
      "display_name": "Python 3"
    },
    "language_info": {
      "name": "python"
    }
  },
  "cells": [
    {
      "cell_type": "markdown",
      "source": [
        "# MNISTの画像分類"
      ],
      "metadata": {
        "id": "BZ7aSDkWpWHi"
      }
    },
    {
      "cell_type": "markdown",
      "source": [
        "Googleドライブをマウント"
      ],
      "metadata": {
        "id": "H41euVrMmZcx"
      }
    },
    {
      "cell_type": "code",
      "execution_count": 3,
      "metadata": {
        "colab": {
          "base_uri": "https://localhost:8080/"
        },
        "id": "sL-0CzOokNeL",
        "outputId": "57d4fae2-fe7c-4997-a5cb-6b484ea02306"
      },
      "outputs": [
        {
          "output_type": "stream",
          "name": "stdout",
          "text": [
            "Drive already mounted at /content/drive; to attempt to forcibly remount, call drive.mount(\"/content/drive\", force_remount=True).\n",
            "/content/drive/My Drive/KDDI関連/Creative.hack/勉強会/MNIST\n"
          ]
        }
      ],
      "source": [
        "from google.colab import drive\n",
        "drive.mount('/content/drive')\n",
        "\n",
        "%cd \"/content/drive/My Drive/KDDI関連/Creative.hack/勉強会/MNIST\""
      ]
    },
    {
      "cell_type": "markdown",
      "source": [
        "## 必要なライブラリの読み込み"
      ],
      "metadata": {
        "id": "B1DvkDR-mYO6"
      }
    },
    {
      "cell_type": "code",
      "source": [
        "import os\n",
        "import pathlib\n",
        "\n",
        "import numpy as np\n",
        "import pandas as pd \n",
        "import tensorflow as tf\n",
        "import tensorflow.keras.layers as layers\n",
        "\n",
        "import matplotlib\n",
        "import matplotlib.pyplot as plt\n",
        "%matplotlib inline"
      ],
      "metadata": {
        "id": "o0tEpZS_nCpu"
      },
      "execution_count": 8,
      "outputs": []
    },
    {
      "cell_type": "markdown",
      "source": [
        "## MNISTのダウンロード  \n",
        "今回は外部のデータセットを使用するが、一般的には自分でデータセットを用意するケースが多い"
      ],
      "metadata": {
        "id": "0dyoaqd0nAi2"
      }
    },
    {
      "cell_type": "code",
      "source": [
        "mnist = tf.keras.datasets.mnist\n",
        "(X_train, y_train),(X_test, y_test) = mnist.load_data()"
      ],
      "metadata": {
        "colab": {
          "base_uri": "https://localhost:8080/"
        },
        "id": "x5469jBGn0y3",
        "outputId": "fcef4f95-09b9-42db-c677-f2e4d53db53e"
      },
      "execution_count": 5,
      "outputs": [
        {
          "output_type": "stream",
          "name": "stdout",
          "text": [
            "Downloading data from https://storage.googleapis.com/tensorflow/tf-keras-datasets/mnist.npz\n",
            "11490434/11490434 [==============================] - 0s 0us/step\n"
          ]
        }
      ]
    },
    {
      "cell_type": "markdown",
      "source": [
        "MNISTのデータセットの一部を可視化"
      ],
      "metadata": {
        "id": "XkQPuJZfowRZ"
      }
    },
    {
      "cell_type": "code",
      "source": [
        "for i in [1,10,100]:\n",
        "    print(\"y_train\", \"(i=\"+str(i)+\"): \", y_train[i])\n",
        "    print(\"X_train\", \"(i=\"+str(i)+\"): \")    \n",
        "    plt.imshow(X_train[i], cmap='gray')\n",
        "    plt.show()"
      ],
      "metadata": {
        "id": "wb55X6ZWoh82"
      },
      "execution_count": null,
      "outputs": []
    },
    {
      "cell_type": "markdown",
      "source": [
        "## 画像データの正規化\n",
        "1. min-max normalization（正規化）  \n",
        "  - 最小値が0, 最大値が1になるように変換する\n",
        "  - x_new = (x - x_min) / (x_max - x_min)\n",
        "2. z-score normalization（標準化）\n",
        "  - 平均が0, 標準偏差が1になるよう変換する\n",
        "  - x_new = (x - x_mean) / x_std\n",
        "\n",
        "\n",
        "今回は入力データを標準化して学習を行う。"
      ],
      "metadata": {
        "id": "175QW2qppoG2"
      }
    },
    {
      "cell_type": "code",
      "source": [
        "X_train, X_test = X_train/255.0, X_test/255.0\n",
        "X_train, X_test = (X_train-0.5)/0.5, (X_test-0.5)/0.5"
      ],
      "metadata": {
        "id": "GWTBkzZQo0Gk"
      },
      "execution_count": 7,
      "outputs": []
    },
    {
      "cell_type": "markdown",
      "source": [
        "## モデルの作成\n",
        "今回は全結合層3層によって構成される簡易的なモデルで学習を行う"
      ],
      "metadata": {
        "id": "0CP-QG_TrzkL"
      }
    },
    {
      "cell_type": "code",
      "source": [
        "class ClassificationModel(tf.keras.Model):\n",
        "    def __init__(self):\n",
        "        super(ClassificationModel, self).__init__()\n",
        "        self.flatten_layer = layers.Flatten(input_shape=(28, 28), name='input')\n",
        "        self.linear1 = layers.Dense(512, name='fc_1', activation='relu')\n",
        "        self.linear2 = layers.Dense(256, name='fc_2', activation='relu')\n",
        "        self.linear3 = layers.Dense(10, name='fc_2', activation='softmax')\n",
        "        # self.relu = layers.Activation(tf.nn.relu, name='relu_1')\n",
        "\n",
        "    def call(self, x):\n",
        "        x = self.flatten_layer(x)\n",
        "        x = self.linear1(x)\n",
        "        x = self.linear2(x)\n",
        "        x = self.linear3(x)\n",
        "        return x\n",
        "\n",
        "model = ClassificationModel()"
      ],
      "metadata": {
        "id": "gqFs2CKsrvrv"
      },
      "execution_count": 10,
      "outputs": []
    },
    {
      "cell_type": "code",
      "source": [
        "model"
      ],
      "metadata": {
        "colab": {
          "base_uri": "https://localhost:8080/"
        },
        "id": "47ziBx_dvfSu",
        "outputId": "c0db7c34-bddd-4823-91f5-a1fa94d80a9a"
      },
      "execution_count": 11,
      "outputs": [
        {
          "output_type": "execute_result",
          "data": {
            "text/plain": [
              "<__main__.ClassificationModel at 0x7f409de200d0>"
            ]
          },
          "metadata": {},
          "execution_count": 11
        }
      ]
    },
    {
      "cell_type": "code",
      "source": [],
      "metadata": {
        "id": "Mgw8XbRjvjzH"
      },
      "execution_count": null,
      "outputs": []
    }
  ]
}